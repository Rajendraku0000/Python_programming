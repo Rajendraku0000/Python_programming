{
 "cells": [
  {
   "cell_type": "markdown",
   "id": "0e39fd6e",
   "metadata": {},
   "source": [
    "#  Question 1 solved this and calculate sum of digit\n",
    "    1/1!,2/2!,3/3!......."
   ]
  },
  {
   "cell_type": "code",
   "execution_count": 4,
   "id": "3dcff24d",
   "metadata": {},
   "outputs": [
    {
     "name": "stdout",
     "output_type": "stream",
     "text": [
      "Enter number10\n",
      "1.0\n",
      "2.0\n",
      "2.5\n",
      "2.6666666666666665\n",
      "2.708333333333333\n",
      "2.7166666666666663\n",
      "2.7180555555555554\n",
      "2.7182539682539684\n",
      "2.71827876984127\n",
      "2.7182815255731922\n"
     ]
    }
   ],
   "source": [
    "n=int(input(\"Enter number\"))\n",
    "result =0\n",
    "fec=1\n",
    "\n",
    "for i in range(1,n+1):\n",
    "    fec=fec*i\n",
    "    result=result+i/fec\n",
    "    print(result)\n",
    "    "
   ]
  },
  {
   "cell_type": "code",
   "execution_count": 10,
   "id": "dac39d54",
   "metadata": {},
   "outputs": [
    {
     "name": "stdout",
     "output_type": "stream",
     "text": [
      "Enter number10\n",
      "1.0\n",
      "2.0\n",
      "2.5\n",
      "2.6666666666666665\n",
      "2.708333333333333\n",
      "2.7166666666666663\n",
      "2.7180555555555554\n",
      "2.7182539682539684\n",
      "2.71827876984127\n",
      "2.7182815255731922\n"
     ]
    }
   ],
   "source": [
    "import math\n",
    "n=int(input(\"Enter number\"))\n",
    "result =0\n",
    "fec=1\n",
    "\n",
    "for i in range(1,n+1):\n",
    "#     fec=fec*i\n",
    "    result=result+i/math.factorial(i)\n",
    "    print(result)"
   ]
  },
  {
   "cell_type": "code",
   "execution_count": null,
   "id": "d249ba98",
   "metadata": {},
   "outputs": [],
   "source": []
  }
 ],
 "metadata": {
  "kernelspec": {
   "display_name": "Python 3 (ipykernel)",
   "language": "python",
   "name": "python3"
  },
  "language_info": {
   "codemirror_mode": {
    "name": "ipython",
    "version": 3
   },
   "file_extension": ".py",
   "mimetype": "text/x-python",
   "name": "python",
   "nbconvert_exporter": "python",
   "pygments_lexer": "ipython3",
   "version": "3.10.9"
  }
 },
 "nbformat": 4,
 "nbformat_minor": 5
}
