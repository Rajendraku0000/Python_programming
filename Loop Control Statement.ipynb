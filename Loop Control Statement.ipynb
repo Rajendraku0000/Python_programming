{
 "cells": [
  {
   "cell_type": "markdown",
   "id": "ec64c0b5",
   "metadata": {},
   "source": [
    "# there are  3 type of control statment\n",
    "\n"
   ]
  },
  {
   "cell_type": "code",
   "execution_count": 1,
   "id": "24c5a979",
   "metadata": {},
   "outputs": [],
   "source": [
    "# 1 Break\n",
    "# 2 Continue\n",
    "# 3 pass"
   ]
  },
  {
   "cell_type": "raw",
   "id": "a03a6bb9",
   "metadata": {},
   "source": [
    "control statment ka use kiya jata he loop ko control karne ke liye \n",
    "\n",
    "break ==> ka mtlb hota jb hamari conditon true hogi to loop break ho jaiga \n",
    "contioue ==> is ka use kiya jata he jab condition me value ko ingore karna he the vaha se loop ko contioue karna ho \n",
    "pass   ==> pass ka use kiya jata empty loop ke liye agar ham indentation block me kuch nahi dete he to error generate the error             whene i we use the pass statement then no generate the error"
   ]
  },
  {
   "cell_type": "code",
   "execution_count": 4,
   "id": "6a5bd4a3",
   "metadata": {},
   "outputs": [
    {
     "name": "stdout",
     "output_type": "stream",
     "text": [
      "1\n",
      "2\n",
      "3\n",
      "4\n"
     ]
    }
   ],
   "source": [
    "# break\n",
    "for i in range(1,10):\n",
    "    if i==5:\n",
    "        break\n",
    "    print(i)"
   ]
  },
  {
   "cell_type": "code",
   "execution_count": 5,
   "id": "4bfb9b2d",
   "metadata": {},
   "outputs": [
    {
     "name": "stdout",
     "output_type": "stream",
     "text": [
      "1\n",
      "2\n",
      "3\n",
      "4\n",
      "6\n",
      "7\n",
      "8\n",
      "9\n",
      "10\n"
     ]
    }
   ],
   "source": [
    "# continue\n",
    "for i in range(1,10+1):\n",
    "    if i==5:\n",
    "        continue\n",
    "    print(i)"
   ]
  },
  {
   "cell_type": "code",
   "execution_count": 6,
   "id": "eeae449b",
   "metadata": {},
   "outputs": [
    {
     "ename": "SyntaxError",
     "evalue": "incomplete input (3381345847.py, line 3)",
     "output_type": "error",
     "traceback": [
      "\u001b[1;36m  Cell \u001b[1;32mIn[6], line 3\u001b[1;36m\u001b[0m\n\u001b[1;33m    \u001b[0m\n\u001b[1;37m    ^\u001b[0m\n\u001b[1;31mSyntaxError\u001b[0m\u001b[1;31m:\u001b[0m incomplete input\n"
     ]
    }
   ],
   "source": [
    "# pass\n",
    "for i in range(1,10+1):\n",
    "   "
   ]
  },
  {
   "cell_type": "code",
   "execution_count": 7,
   "id": "cb17b714",
   "metadata": {},
   "outputs": [],
   "source": [
    "#pass \n",
    "for i in range(1,10+1):\n",
    "    pass"
   ]
  },
  {
   "cell_type": "markdown",
   "id": "62e1def3",
   "metadata": {},
   "source": [
    "# print prime number given 2 range lower and upper range \n"
   ]
  },
  {
   "cell_type": "code",
   "execution_count": 3,
   "id": "206d6f3f",
   "metadata": {},
   "outputs": [
    {
     "name": "stdout",
     "output_type": "stream",
     "text": [
      "enter lower range 10\n",
      "enter upper range 100\n",
      "11\n",
      "13\n",
      "17\n",
      "19\n",
      "23\n",
      "29\n",
      "31\n",
      "37\n",
      "41\n",
      "43\n",
      "47\n",
      "53\n",
      "59\n",
      "61\n",
      "67\n",
      "71\n",
      "73\n",
      "79\n",
      "83\n",
      "89\n",
      "97\n"
     ]
    }
   ],
   "source": [
    "Lower_Range=int(input(\"enter lower range \"))\n",
    "Upper_Range=int(input(\"enter upper range \"))\n",
    "\n",
    "\n",
    "for i in range(Lower_Range,Upper_Range+1):\n",
    "    for j in range(2,i):\n",
    "        if i%j==0:\n",
    "            break\n",
    "    else:\n",
    "        print(i)"
   ]
  }
 ],
 "metadata": {
  "kernelspec": {
   "display_name": "Python 3 (ipykernel)",
   "language": "python",
   "name": "python3"
  },
  "language_info": {
   "codemirror_mode": {
    "name": "ipython",
    "version": 3
   },
   "file_extension": ".py",
   "mimetype": "text/x-python",
   "name": "python",
   "nbconvert_exporter": "python",
   "pygments_lexer": "ipython3",
   "version": "3.10.9"
  }
 },
 "nbformat": 4,
 "nbformat_minor": 5
}
