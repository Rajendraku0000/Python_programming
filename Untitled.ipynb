{
 "cells": [
  {
   "cell_type": "code",
   "execution_count": 9,
   "id": "843156fc",
   "metadata": {},
   "outputs": [],
   "source": [
    "mytupel=(1,2,250,\"5qhjhd\",\"hfeuihv\")"
   ]
  },
  {
   "cell_type": "code",
   "execution_count": 10,
   "id": "7e7e8284",
   "metadata": {},
   "outputs": [
    {
     "name": "stdout",
     "output_type": "stream",
     "text": [
      "2419995967760\n",
      "2419995967728\n",
      "2419995975696\n",
      "2420079705968\n",
      "2420079694704\n"
     ]
    }
   ],
   "source": [
    "print(id(mytupel[1]))\n",
    "print(id(mytupel[0]))\n",
    "print(id(mytupel[2]))\n",
    "print(id(mytupel[3]))\n",
    "print(id(mytupel[4]))"
   ]
  },
  {
   "cell_type": "code",
   "execution_count": 11,
   "id": "e8515cde",
   "metadata": {},
   "outputs": [
    {
     "name": "stdout",
     "output_type": "stream",
     "text": [
      "2419995967728\n",
      "2419995967760\n",
      "2419995975696\n",
      "2420079705968\n",
      "2420079694704\n"
     ]
    }
   ],
   "source": [
    "mylist=[1,2,250,\"5qhjhd\",\"hfeuihv\"]\n",
    "print(id(mylist[0]))\n",
    "print(id(mylist[1]))\n",
    "print(id(mylist[2]))\n",
    "print(id(mylist[3]))\n",
    "print(id(mylist[4]))"
   ]
  },
  {
   "cell_type": "code",
   "execution_count": 12,
   "id": "63dd7f52",
   "metadata": {},
   "outputs": [],
   "source": [
    "a=1"
   ]
  },
  {
   "cell_type": "code",
   "execution_count": 13,
   "id": "c5383b74",
   "metadata": {},
   "outputs": [
    {
     "name": "stdout",
     "output_type": "stream",
     "text": [
      "2419995967728\n"
     ]
    }
   ],
   "source": [
    "print(id(a))"
   ]
  },
  {
   "cell_type": "code",
   "execution_count": 14,
   "id": "336438d4",
   "metadata": {},
   "outputs": [],
   "source": [
    "a=[[1,2,3]]"
   ]
  },
  {
   "cell_type": "code",
   "execution_count": 15,
   "id": "6b60347f",
   "metadata": {},
   "outputs": [
    {
     "data": {
      "text/plain": [
       "[[1, 2, 3]]"
      ]
     },
     "execution_count": 15,
     "metadata": {},
     "output_type": "execute_result"
    }
   ],
   "source": [
    "a"
   ]
  },
  {
   "cell_type": "code",
   "execution_count": 16,
   "id": "220cb5d6",
   "metadata": {},
   "outputs": [
    {
     "data": {
      "text/plain": [
       "list"
      ]
     },
     "execution_count": 16,
     "metadata": {},
     "output_type": "execute_result"
    }
   ],
   "source": [
    "type(a)"
   ]
  },
  {
   "cell_type": "code",
   "execution_count": null,
   "id": "b3e8a1bb",
   "metadata": {},
   "outputs": [],
   "source": []
  }
 ],
 "metadata": {
  "kernelspec": {
   "display_name": "Python 3 (ipykernel)",
   "language": "python",
   "name": "python3"
  },
  "language_info": {
   "codemirror_mode": {
    "name": "ipython",
    "version": 3
   },
   "file_extension": ".py",
   "mimetype": "text/x-python",
   "name": "python",
   "nbconvert_exporter": "python",
   "pygments_lexer": "ipython3",
   "version": "3.10.9"
  }
 },
 "nbformat": 4,
 "nbformat_minor": 5
}
