{
 "cells": [
  {
   "cell_type": "code",
   "execution_count": 1,
   "id": "69c02353",
   "metadata": {},
   "outputs": [
    {
     "name": "stdout",
     "output_type": "stream",
     "text": [
      "hello world\n"
     ]
    }
   ],
   "source": [
    "print(\"hello world\")"
   ]
  },
  {
   "cell_type": "code",
   "execution_count": 13,
   "id": "afb5efb5",
   "metadata": {
    "scrolled": true
   },
   "outputs": [
    {
     "name": "stdout",
     "output_type": "stream",
     "text": [
      "hello world\n"
     ]
    }
   ],
   "source": [
    "print(\"hello\",\"world\")"
   ]
  },
  {
   "cell_type": "code",
   "execution_count": null,
   "id": "5ca8b5e1",
   "metadata": {},
   "outputs": [],
   "source": []
  },
  {
   "cell_type": "code",
   "execution_count": null,
   "id": "d258c1ff",
   "metadata": {},
   "outputs": [],
   "source": []
  },
  {
   "cell_type": "markdown",
   "id": "02e1ca32",
   "metadata": {},
   "source": [
    "sep=\" \" ==>  yaha pr hyper peramte jiski value by defoult \" \" hoti he iska matlb yeh he ki jitni bi value di he vo sab be bich space hoga iski jagah or bi use kar sakte he "
   ]
  },
  {
   "cell_type": "code",
   "execution_count": 7,
   "id": "64c51348",
   "metadata": {},
   "outputs": [
    {
     "name": "stdout",
     "output_type": "stream",
     "text": [
      "helloworldRajendra\n"
     ]
    }
   ],
   "source": [
    "print(\"hello\",\"world\",\"Rajendra\",sep=\"\")"
   ]
  },
  {
   "cell_type": "code",
   "execution_count": 8,
   "id": "266ef697",
   "metadata": {},
   "outputs": [
    {
     "name": "stdout",
     "output_type": "stream",
     "text": [
      "hello  world  Rajendra\n"
     ]
    }
   ],
   "source": [
    "print(\"hello\",\"world\",\"Rajendra\",sep=\"  \")"
   ]
  },
  {
   "cell_type": "code",
   "execution_count": 9,
   "id": "02d8e155",
   "metadata": {},
   "outputs": [
    {
     "name": "stdout",
     "output_type": "stream",
     "text": [
      "hello world Rajendra\n"
     ]
    }
   ],
   "source": [
    "print(\"hello\",\"world\",\"Rajendra\",sep=\" \")"
   ]
  },
  {
   "cell_type": "code",
   "execution_count": 10,
   "id": "51804f49",
   "metadata": {},
   "outputs": [
    {
     "name": "stdout",
     "output_type": "stream",
     "text": [
      "hello/world/Rajendra\n"
     ]
    }
   ],
   "source": [
    "print(\"hello\",\"world\",\"Rajendra\",sep=\"/\")"
   ]
  },
  {
   "cell_type": "code",
   "execution_count": 11,
   "id": "5ef68eee",
   "metadata": {},
   "outputs": [
    {
     "name": "stdout",
     "output_type": "stream",
     "text": [
      "hello-world-Rajendra\n"
     ]
    }
   ],
   "source": [
    "print(\"hello\",\"world\",\"Rajendra\",sep=\"-\")"
   ]
  },
  {
   "cell_type": "code",
   "execution_count": 12,
   "id": "5e5f7abe",
   "metadata": {},
   "outputs": [
    {
     "name": "stdout",
     "output_type": "stream",
     "text": [
      "hello*world*Rajendra\n"
     ]
    }
   ],
   "source": [
    "print(\"hello\",\"world\",\"Rajendra\",sep=\"*\")"
   ]
  },
  {
   "cell_type": "raw",
   "id": "1bb6b386",
   "metadata": {},
   "source": [
    "end=\"\\n\" ==> iska mtlb ji alag alag  print fuction ki value alag alag line me gohi  or iski by defoult value \"\\n\" hoti he "
   ]
  },
  {
   "cell_type": "code",
   "execution_count": 16,
   "id": "50a34f33",
   "metadata": {},
   "outputs": [
    {
     "name": "stdout",
     "output_type": "stream",
     "text": [
      "hello\n",
      "World\n",
      "Rajendra\n"
     ]
    }
   ],
   "source": [
    "print(\"hello\")\n",
    "print(\"World\")\n",
    "print(\"Rajendra\")"
   ]
  },
  {
   "cell_type": "code",
   "execution_count": 17,
   "id": "4de3cf06",
   "metadata": {},
   "outputs": [
    {
     "name": "stdout",
     "output_type": "stream",
     "text": [
      "helloWorld\n",
      "Rajendra\n"
     ]
    }
   ],
   "source": [
    "print(\"hello\",end=\"\")\n",
    "print(\"World\")\n",
    "print(\"Rajendra\")"
   ]
  },
  {
   "cell_type": "code",
   "execution_count": 18,
   "id": "d1b75fe2",
   "metadata": {},
   "outputs": [
    {
     "name": "stdout",
     "output_type": "stream",
     "text": [
      "hello World\n",
      "Rajendra\n"
     ]
    }
   ],
   "source": [
    "print(\"hello\",end=\" \")\n",
    "print(\"World\")\n",
    "print(\"Rajendra\")"
   ]
  },
  {
   "cell_type": "code",
   "execution_count": 19,
   "id": "7a488c1b",
   "metadata": {},
   "outputs": [
    {
     "name": "stdout",
     "output_type": "stream",
     "text": [
      "hello World Rajendra\n"
     ]
    }
   ],
   "source": [
    "print(\"hello\",end=\" \")\n",
    "print(\"World\",end=\" \")\n",
    "print(\"Rajendra\")"
   ]
  },
  {
   "cell_type": "code",
   "execution_count": null,
   "id": "29356dba",
   "metadata": {},
   "outputs": [],
   "source": [
    "print()"
   ]
  }
 ],
 "metadata": {
  "kernelspec": {
   "display_name": "Python 3 (ipykernel)",
   "language": "python",
   "name": "python3"
  },
  "language_info": {
   "codemirror_mode": {
    "name": "ipython",
    "version": 3
   },
   "file_extension": ".py",
   "mimetype": "text/x-python",
   "name": "python",
   "nbconvert_exporter": "python",
   "pygments_lexer": "ipython3",
   "version": "3.10.9"
  }
 },
 "nbformat": 4,
 "nbformat_minor": 5
}
